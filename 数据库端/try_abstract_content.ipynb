{
 "cells": [
  {
   "cell_type": "code",
   "execution_count": null,
   "metadata": {
    "pycharm": {
     "name": "#%%\n"
    }
   },
   "outputs": [],
   "source": [
    "from jieba import analyse\n",
    "\n",
    "\n",
    "def get_keywords(text):\n",
    "    \"\"\"利用jieba的IF-IDF来进行关键词提取 \n",
    "    topK:需要的关键词个数\n",
    "    \"\"\"\n",
    "    kws = analyse.extract_tags(text, topK=3)\n",
    "    keywords = set()\n",
    "    for kw in kws:\n",
    "        keywords.add(kw)\n",
    "    return keywords\n",
    "\n",
    "\n",
    "def get_match_info(source, keywords):\n",
    "    \"\"\"\n",
    "    用句号来分隔原文形成列表,然后在列表的每个元素里面查找关键字。\n",
    "    :param source: 原文\n",
    "    :param keywords: 需要查找的关键字SET\n",
    "    \"\"\"\n",
    "    chinese_dot_list = source.split('。')\n",
    "    match_list = set()\n",
    "    for sentence in chinese_dot_list:\n",
    "        for keyword in keywords:\n",
    "            if keyword in sentence:\n",
    "                match_list.add(sentence+\"。\")\n",
    "\n",
    "    return match_list\n",
    "\n",
    "\n",
    "def get_content(text):\n",
    "    keywords = get_keywords(text)\n",
    "    return get_match_info(text, keywords)\n"
   ]
  },
  {
   "cell_type": "code",
   "execution_count": null,
   "metadata": {
    "pycharm": {
     "name": "#%%\n"
    }
   },
   "outputs": [],
   "source": [
    "\n",
    "get_content(\"管韵——绽放管经““Play with ME”活动为繁荣校园文化，展示我院精神文明建设的成果和大学生积极向上的精神风貌，丰富同学们的课余生活，提高大家的模仿能力，院团委决定举办昆明理工大学管理与经济学院“Play with ME” 活动，请大家积极参与。现将有关事项通知如下：一、活动主办：昆明理工大学共青团管理与经济学院团委学生会二、活动承办：昆明理工大学共青团管理与经济学院团委学生会社管部三、活动对象：管理与经济学院全体在校学生四、报名时间，地点请各班班长于2015年11月22日（周日）前将活动报名表电子版发到786523996@qq.com邮箱，于2015年11月22日（中午）晚上12:30前将活动报名表纸质版交至憬园6108辅导员办公室五、比赛流程：活动总体的竞赛流程占据两个环节，即预赛环节（音频自选）和决赛环节（现场抽取音频趣味模仿）自选音频（预赛）环节：每支队伍赛前使用小咖秀软件录制一个小视频，并在比赛当天上台播放出来，播放前，由参赛人员代表进行简短讲解，讲解结束后，播放提前录制的短片，在视频播放时，同时现场进行小咖秀表演。 (由评委打分，以分数高低排序决定参赛队伍名次。开场介绍不超过3分钟。）抽签选取音频（决赛）环节：比赛队伍根据抽签结果进行模仿表演，开始前播放该队抽到的的视频内容，并有五分钟的准备时间，同时主持人与现场观众进行互动，互动内容为电影知识提问，凡是回答问题观众，无论回答对错都会获得小礼品一份。各组选手按本流程依次表演，最后由评委打分，评比一二三等奖。六、评分方式：1）采用“满分10分，小数点后一位”打分制，除去最高分最低分，以所有评委打分的平均值作为参赛选手的最终成绩，进行评选。2) 比赛时评委将从以下四方面进行打分：表演技巧（3分），创新效果（3分），现场效果（2分），综合效果（2分）。七、活动要求:1、参赛人员通过班级以小组形式报名，每小组需取一个队名，为保证参赛选手都有展示自己的机会，每小组人数限定于3---5人。2、比赛中参赛选手需自行准备一个自拍小咖秀视频，该视频用于初赛环节，视频内容要求积极向上，无消极反动思想，保证视频在放映过程中清晰流畅。  \")\n"
   ]
  },
  {
   "cell_type": "code",
   "execution_count": null,
   "metadata": {
    "pycharm": {
     "name": "#%%\n"
    }
   },
   "outputs": [],
   "source": [
    "from snownlp import summary\n",
    "from snownlp import *\n"
   ]
  },
  {
   "cell_type": "code",
   "execution_count": null,
   "metadata": {
    "pycharm": {
     "name": "#%%\n"
    }
   },
   "outputs": [],
   "source": [
    "text = \"\"\"管韵——绽放管经““Play with ME”活动为繁荣校园文化，展示我院精神文明建设的成果和大学生积极向上的精神风貌，丰富同学们的课余生活，提高大家的模仿能力，院团委决定举办昆明理工大学管理与经济学院“Play with ME” 活动，请大家积极参与。现将有关事项通知如下：一、活动主办：昆明理工大学共青团管理与经济学院团委学生会二、活动承办：昆明理工大学共青团管理与经济学院团委学生会社管部三、活动对象：管理与经济学院全体在校学生四、报名时间，地点请各班班长于2015年11月22日（周日）前将活动报名表电子版发到786523996@qq.com邮箱，于2015年11月22日（中午）晚上12:30前将活动报名表纸质版交至憬园6108辅导员办公室五、比赛流程：活动总体的竞赛流程占据两个环节，即预赛环节（音频自选）和决赛环节（现场抽取音频趣味模仿）自选音频（预赛）环节：每支队伍赛前使用小咖秀软件录制一个小视频，并在比赛当天上台播放出来，播放前，由参赛人员代表进行简短讲解，讲解结束后，播放提前录制的短片，在视频播放时，同时现场进行小咖秀表演。 (由评委打分，以分数高低排序决定参赛队伍名次。开场介绍不超过3分钟。）抽签选取音频（决赛）环节：比赛队伍根据抽签结果进行模仿表演，开始前播放该队抽到的的视频内容，并有五分钟的准备时间，同时主持人与现场观众进行互动，互动内容为电影知识提问，凡是回答问题观众，无论回答对错都会获得小礼品一份。各组选手按本流程依次表演，最后由评委打分，评比一二三等奖。六、评分方式：1）采用“满分10分，小数点后一位”打分制，除去最高分最低分，以所有评委打分的平均值作为参赛选手的最终成绩，进行评选。2) 比赛时评委将从以下四方面进行打分：表演技巧（3分），创新效果（3分），现场效果（2分），综合效果（2分）。七、活动要求:1、参赛人员通过班级以小组形式报名，每小组需取一个队名，为保证参赛选手都有展示自己的机会，每小组人数限定于3---5人。2、比赛中参赛选手需自行准备一个自拍小咖秀视频，该视频用于初赛环节，视频内容要求积极向上，无消极反动思想，保证视频在放映过程中清晰流畅。  \"\"\"\n"
   ]
  },
  {
   "cell_type": "code",
   "execution_count": null,
   "metadata": {
    "pycharm": {
     "name": "#%%\n"
    }
   },
   "outputs": [],
   "source": [
    "s = SnowNLP(text)\n",
    "for i in set(s.summary()):\n",
    "    i\n"
   ]
  }
 ],
 "metadata": {
  "interpreter": {
   "hash": "e700657700ca3726e7d919db0cb1bdb00b1449743532d1443fbe37ca2c1ec67d"
  },
  "kernelspec": {
   "display_name": "Python 3.7.3 64-bit",
   "language": "python",
   "name": "python3"
  },
  "language_info": {
   "codemirror_mode": {
    "name": "ipython",
    "version": 3
   },
   "file_extension": ".py",
   "mimetype": "text/x-python",
   "name": "python",
   "nbconvert_exporter": "python",
   "pygments_lexer": "ipython3",
   "version": "3.7.3"
  },
  "orig_nbformat": 4
 },
 "nbformat": 4,
 "nbformat_minor": 2
}