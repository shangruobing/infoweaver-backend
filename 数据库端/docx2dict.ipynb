{
 "cells": [
  {
   "cell_type": "code",
   "execution_count": 1,
   "metadata": {},
   "outputs": [],
   "source": [
    "import os\n",
    "from tqdm import tqdm\n",
    "\n",
    "filePath = r\"C:\\\\Users\\\\冰\\Desktop\\\\NFQA后端开发\\\\public\\\\Word\"\n",
    "\n",
    "# fileList:存放所有文件名（包含后缀）\n",
    "fileList = os.listdir(filePath)\n"
   ]
  },
  {
   "cell_type": "code",
   "execution_count": 2,
   "metadata": {},
   "outputs": [
    {
     "name": "stderr",
     "output_type": "stream",
     "text": [
      "docx => dict: 100%|██████████| 993/993 [00:00<00:00, 488556.47it/s]"
     ]
    },
    {
     "name": "stdout",
     "output_type": "stream",
     "text": [
      "Finished\n"
     ]
    },
    {
     "name": "stderr",
     "output_type": "stream",
     "text": [
      "\n"
     ]
    }
   ],
   "source": [
    "with open(\"mydict.txt\", 'w', encoding='UTF-8') as dictionary:\n",
    "    for file in tqdm(iterable=fileList, desc=\"docx => dictionary\"):\n",
    "        try:\n",
    "            FileName = file.split('.doc')[0]\n",
    "            _ = dictionary.write(FileName+\"\\n\")\n",
    "        except Exception:\n",
    "            print(file, \" ERROR!\")\n",
    "            continue\n",
    "\n",
    "    print(\"Finished\")\n"
   ]
  }
 ],
 "metadata": {
  "interpreter": {
   "hash": "e700657700ca3726e7d919db0cb1bdb00b1449743532d1443fbe37ca2c1ec67d"
  },
  "kernelspec": {
   "display_name": "Python 3.7.3 64-bit",
   "language": "python",
   "name": "python3"
  },
  "language_info": {
   "codemirror_mode": {
    "name": "ipython",
    "version": 3
   },
   "file_extension": ".py",
   "mimetype": "text/x-python",
   "name": "python",
   "nbconvert_exporter": "python",
   "pygments_lexer": "ipython3",
   "version": "3.7.3"
  },
  "orig_nbformat": 4
 },
 "nbformat": 4,
 "nbformat_minor": 2
}
