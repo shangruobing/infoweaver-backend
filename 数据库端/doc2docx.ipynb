{
 "cells": [
  {
   "cell_type": "code",
   "execution_count": 1,
   "metadata": {},
   "outputs": [
    {
     "name": "stderr",
     "output_type": "stream",
     "text": [
      "doc => docx Converting:  33%|███▎      | 215/645 [01:39<02:16,  3.16it/s]"
     ]
    },
    {
     "name": "stdout",
     "output_type": "stream",
     "text": [
      "C:\\Users\\冰\\Desktop\\NFQA后端开发\\public\\doc\\关于组织我校留学生申报2015学年云南省政府奖学金的通知.doc  ERROR!\n"
     ]
    },
    {
     "name": "stderr",
     "output_type": "stream",
     "text": [
      "doc => docx Converting: 100%|██████████| 645/645 [05:36<00:00,  1.92it/s]  "
     ]
    },
    {
     "name": "stdout",
     "output_type": "stream",
     "text": [
      "Finished!\n"
     ]
    },
    {
     "name": "stderr",
     "output_type": "stream",
     "text": [
      "\n"
     ]
    }
   ],
   "source": [
    "import os\n",
    "from win32com import client as wc\n",
    "from tqdm import tqdm\n",
    "\n",
    "docPath = \"C:\\\\Users\\\\冰\\\\Desktop\\\\NFQA后端开发\\\\public\\\\doc\\\\\"\n",
    "docxPath = \"C:\\\\Users\\\\冰\\\\Desktop\\\\NFQA后端开发\\\\public\\\\Word\\\\\"\n",
    "\n",
    "fileList = os.listdir(docPath)\n",
    "\n",
    "w = wc.Dispatch('Word.Application')\n",
    "for file in tqdm(iterable=fileList, desc=\"doc => docx Converting\"):\n",
    "    try:\n",
    "        docName = docPath + file\n",
    "        docxName = docxPath + file + 'x'\n",
    "        doc = w.Documents.Open(docName)\n",
    "        doc.SaveAs(docxName, 16)\n",
    "        doc.Close()\n",
    "    except Exception:\n",
    "        print(docName, \" ERROR!\")\n",
    "        continue\n",
    "\n",
    "w.Quit()\n",
    "print(\"Finished!\")\n"
   ]
  }
 ],
 "metadata": {
  "interpreter": {
   "hash": "e700657700ca3726e7d919db0cb1bdb00b1449743532d1443fbe37ca2c1ec67d"
  },
  "kernelspec": {
   "display_name": "Python 3.7.3 64-bit",
   "language": "python",
   "name": "python3"
  },
  "language_info": {
   "codemirror_mode": {
    "name": "ipython",
    "version": 3
   },
   "file_extension": ".py",
   "mimetype": "text/x-python",
   "name": "python",
   "nbconvert_exporter": "python",
   "pygments_lexer": "ipython3",
   "version": "3.7.3"
  },
  "orig_nbformat": 4
 },
 "nbformat": 4,
 "nbformat_minor": 2
}