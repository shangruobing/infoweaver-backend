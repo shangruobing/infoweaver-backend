{
 "cells": [
  {
   "cell_type": "code",
   "execution_count": 6,
   "metadata": {},
   "outputs": [
    {
     "name": "stderr",
     "output_type": "stream",
     "text": [
      "docx => txt Converting: 100%|██████████| 995/995 [00:08<00:00, 117.95it/s]"
     ]
    },
    {
     "name": "stdout",
     "output_type": "stream",
     "text": [
      "Finished\n"
     ]
    },
    {
     "name": "stderr",
     "output_type": "stream",
     "text": [
      "\n"
     ]
    }
   ],
   "source": [
    "import os\n",
    "from docx import Document\n",
    "from tqdm import tqdm\n",
    "\n",
    "filePath = r\"C:\\\\Users\\\\冰\\Desktop\\\\NFQA后端开发\\\\public\\\\Word\"\n",
    "txtPath = r\"C:\\\\Users\\\\冰\\Desktop\\\\NFQA后端开发\\\\public\\\\Txt\"\n",
    "\n",
    "# fileList:存放所有文件名（包含后缀）\n",
    "fileList = os.listdir(filePath)\n",
    "\n",
    "textList = []\n",
    "\n",
    "\n",
    "for file in tqdm(iterable=fileList, desc=\"docx => txt Converting\"):\n",
    "    try:\n",
    "        document = Document(os.path.join(filePath, file))\n",
    "        txtFileName = file.split('.docx')[0]+'.txt'\n",
    "\n",
    "        txt = open(os.path.join(txtPath, txtFileName), 'w', encoding='UTF-8')\n",
    "        for i in document.paragraphs:\n",
    "            _ = txt.write(i.text)\n",
    "        txt.close()\n",
    "    except Exception:\n",
    "        print(file, \" ERROR!\")\n",
    "        continue\n",
    "    \n",
    "print(\"Finished\")\n"
   ]
  }
 ],
 "metadata": {
  "interpreter": {
   "hash": "e700657700ca3726e7d919db0cb1bdb00b1449743532d1443fbe37ca2c1ec67d"
  },
  "kernelspec": {
   "display_name": "Python 3.7.3 64-bit",
   "language": "python",
   "name": "python3"
  },
  "language_info": {
   "codemirror_mode": {
    "name": "ipython",
    "version": 3
   },
   "file_extension": ".py",
   "mimetype": "text/x-python",
   "name": "python",
   "nbconvert_exporter": "python",
   "pygments_lexer": "ipython3",
   "version": "3.7.3"
  },
  "orig_nbformat": 4
 },
 "nbformat": 4,
 "nbformat_minor": 2
}