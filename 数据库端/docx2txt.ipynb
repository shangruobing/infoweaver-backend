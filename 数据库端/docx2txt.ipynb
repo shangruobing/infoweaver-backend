{
 "cells": [
  {
   "cell_type": "code",
   "execution_count": null,
   "metadata": {},
   "outputs": [],
   "source": [
    "import os\n",
    "from docx import Document\n",
    "filePath = r\"C:\\Users\\冰\\Desktop\\NFQA后端开发\\\\public\\Word\"  # 文件夹路径\n",
    "txtPath = r\"C:\\Users\\冰\\Desktop\\NFQA后端开发\\public\\Txt\"  # 文件夹路径\n",
    "# fileList:存放所有文件名（包含后缀）\n",
    "fileList = os.listdir(filePath)\n",
    "\n",
    "# 读取10个文件\n",
    "# fileList = fileList[:1]\n",
    "\n",
    "textList = []\n",
    "for file in fileList:\n",
    "    document = Document(os.path.join(filePath, file))\n",
    "    # textList.append(document.paragraphs)\n",
    "    txtFileName = file.split('.docx')[0]+'.txt'\n",
    "    txtFileName\n",
    "\n",
    "    txt = open(os.path.join(txtPath, txtFileName), 'w', encoding='UTF-8')\n",
    "    for i in document.paragraphs:\n",
    "        _ = txt.write(i.text)\n",
    "    txt.close()\n"
   ]
  },
  {
   "cell_type": "code",
   "execution_count": null,
   "metadata": {},
   "outputs": [],
   "source": [
    "for i in document.paragraphs:\n",
    "    i.text\n"
   ]
  },
  {
   "cell_type": "code",
   "execution_count": null,
   "metadata": {},
   "outputs": [],
   "source": [
    "import docx\n",
    "\n",
    "#开始编号和结束编号\n",
    "begin_number = eval(input('开始编号：'))\n",
    "end_number = eval(input('结束编号')) + 1\n",
    "\n",
    "for i in range(begin_number, end_number):\n",
    "    #每个循环中docx文档和txt文档的命名\n",
    "    filenamedocx = (str(i)+'.docx')\n",
    "    filenametxt = (str(i)+'.txt')\n",
    "    #新建和打开txt文档\n",
    "    f = open(filenametext, 'w')\n",
    "    #打开docx的文档并读入名为file的变量中\n",
    "    file = docx.Document(filenamedocx)\n",
    "    #输入docx中的段落数，以检查是否空文档\n",
    "    print('段落数:'+str(len(file.paragraphs)))\n",
    "    #将每个段落的内容都写进去txt里面\n",
    "    for para in file.paragraphs:\n",
    "        f.write(para.text)\n",
    "    f.close()\n",
    "\n",
    "print('操作已经完成！')\n"
   ]
  }
 ],
 "metadata": {
  "interpreter": {
   "hash": "e700657700ca3726e7d919db0cb1bdb00b1449743532d1443fbe37ca2c1ec67d"
  },
  "kernelspec": {
   "display_name": "Python 3.7.3 64-bit",
   "language": "python",
   "name": "python3"
  },
  "language_info": {
   "codemirror_mode": {
    "name": "ipython",
    "version": 3
   },
   "file_extension": ".py",
   "mimetype": "text/x-python",
   "name": "python",
   "nbconvert_exporter": "python",
   "pygments_lexer": "ipython3",
   "version": "3.7.3"
  },
  "orig_nbformat": 4
 },
 "nbformat": 4,
 "nbformat_minor": 2
}
