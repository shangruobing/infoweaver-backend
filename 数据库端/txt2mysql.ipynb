{
 "cells": [
  {
   "cell_type": "code",
   "execution_count": 1,
   "metadata": {},
   "outputs": [],
   "source": [
    "from py2neo import Graph, Node, Relationship\n",
    "\n",
    "graph = Graph(\"http://localhost:7474\", auth=(\"neo4j\", \"010209\"))"
   ]
  },
  {
   "cell_type": "code",
   "execution_count": 2,
   "metadata": {},
   "outputs": [
    {
     "data": {
      "text/plain": [
       "<bound method Cursor.data of  n                                                                                                                            | id(n) \n",
       "------------------------------------------------------------------------------------------------------------------------------|-------\n",
       " (_0:Title {name: '2014-2015\\u5b66\\u5e74\\u7ba1\\u7406\\u4e0e\\u7ecf\\u6d4e\\u5b66\\u9662\\u56e2\\u5b66\\u8bc4\\u4f18\\u901a\\u77e5'})     |     0 \n",
       " (_27:Title {name: '2015-2016\\u5b66\\u5e74\\u7b2c\\u4e00\\u5b66\\u671f\\u5b66\\u751f\\u6559\\u6750\\u8ba2\\u4e66\\u901a\\u77e5'})          |    27 \n",
       " (_46:Title {name: '2015\\u5e7411\\u6708\\u4efd\\u7cbe\\u54c1\\u56e2\\u65e5\\u6d3b\\u52a8\\u8bc4\\u6bd4\\u7ed3\\u679c\\u6c47\\u603b\\u8868'}) |    46 \n",
       ">"
      ]
     },
     "execution_count": 2,
     "metadata": {},
     "output_type": "execute_result"
    }
   ],
   "source": [
    "query = \"MATCH (n:Title) RETURN n,id(n)\"\n",
    "graph.run(query).data\n"
   ]
  },
  {
   "cell_type": "code",
   "execution_count": 3,
   "metadata": {},
   "outputs": [
    {
     "data": {
      "text/plain": [
       "{'n': Node('Title', name='2014-2015学年管理与经济学院团学评优通知'), 'id(n)': 0}"
      ]
     },
     "execution_count": 3,
     "metadata": {},
     "output_type": "execute_result"
    },
    {
     "data": {
      "text/plain": [
       "'2014-2015学年管理与经济学院团学评优通知'"
      ]
     },
     "execution_count": 3,
     "metadata": {},
     "output_type": "execute_result"
    },
    {
     "data": {
      "text/plain": [
       "0"
      ]
     },
     "execution_count": 3,
     "metadata": {},
     "output_type": "execute_result"
    },
    {
     "data": {
      "text/plain": [
       "{'n': Node('Title', name='2015-2016学年第一学期学生教材订书通知'), 'id(n)': 27}"
      ]
     },
     "execution_count": 3,
     "metadata": {},
     "output_type": "execute_result"
    },
    {
     "data": {
      "text/plain": [
       "'2015-2016学年第一学期学生教材订书通知'"
      ]
     },
     "execution_count": 3,
     "metadata": {},
     "output_type": "execute_result"
    },
    {
     "data": {
      "text/plain": [
       "27"
      ]
     },
     "execution_count": 3,
     "metadata": {},
     "output_type": "execute_result"
    },
    {
     "data": {
      "text/plain": [
       "{'n': Node('Title', name='2015年11月份精品团日活动评比结果汇总表'), 'id(n)': 46}"
      ]
     },
     "execution_count": 3,
     "metadata": {},
     "output_type": "execute_result"
    },
    {
     "data": {
      "text/plain": [
       "'2015年11月份精品团日活动评比结果汇总表'"
      ]
     },
     "execution_count": 3,
     "metadata": {},
     "output_type": "execute_result"
    },
    {
     "data": {
      "text/plain": [
       "46"
      ]
     },
     "execution_count": 3,
     "metadata": {},
     "output_type": "execute_result"
    },
    {
     "data": {
      "text/plain": [
       "{'n': Node('Title', name='2015年9月精品团日活动评比结果汇总表'), 'id(n)': 59}"
      ]
     },
     "execution_count": 3,
     "metadata": {},
     "output_type": "execute_result"
    },
    {
     "data": {
      "text/plain": [
       "'2015年9月精品团日活动评比结果汇总表'"
      ]
     },
     "execution_count": 3,
     "metadata": {},
     "output_type": "execute_result"
    },
    {
     "data": {
      "text/plain": [
       "59"
      ]
     },
     "execution_count": 3,
     "metadata": {},
     "output_type": "execute_result"
    },
    {
     "data": {
      "text/plain": [
       "{'n': Node('Title', name='2015年暑期赴德国游学项目通知——国际学院'), 'id(n)': 70}"
      ]
     },
     "execution_count": 3,
     "metadata": {},
     "output_type": "execute_result"
    },
    {
     "data": {
      "text/plain": [
       "'2015年暑期赴德国游学项目通知——国际学院'"
      ]
     },
     "execution_count": 3,
     "metadata": {},
     "output_type": "execute_result"
    },
    {
     "data": {
      "text/plain": [
       "70"
      ]
     },
     "execution_count": 3,
     "metadata": {},
     "output_type": "execute_result"
    },
    {
     "data": {
      "text/plain": [
       "{'n': Node('Title', name='2015年管韵—绽放管经趣味排球赛通知'), 'id(n)': 104}"
      ]
     },
     "execution_count": 3,
     "metadata": {},
     "output_type": "execute_result"
    },
    {
     "data": {
      "text/plain": [
       "'2015年管韵—绽放管经趣味排球赛通知'"
      ]
     },
     "execution_count": 3,
     "metadata": {},
     "output_type": "execute_result"
    },
    {
     "data": {
      "text/plain": [
       "104"
      ]
     },
     "execution_count": 3,
     "metadata": {},
     "output_type": "execute_result"
    },
    {
     "data": {
      "text/plain": [
       "{'n': Node('Title', name='2015昆明V主播首季评选活动方案'), 'id(n)': 130}"
      ]
     },
     "execution_count": 3,
     "metadata": {},
     "output_type": "execute_result"
    },
    {
     "data": {
      "text/plain": [
       "'2015昆明V主播首季评选活动方案'"
      ]
     },
     "execution_count": 3,
     "metadata": {},
     "output_type": "execute_result"
    },
    {
     "data": {
      "text/plain": [
       "130"
      ]
     },
     "execution_count": 3,
     "metadata": {},
     "output_type": "execute_result"
    },
    {
     "data": {
      "text/plain": [
       "{'n': Node('Title', name='2015第五届云南省高校文化节“高教社杯”云南省大学生知识竞赛活动的通知'), 'id(n)': 163}"
      ]
     },
     "execution_count": 3,
     "metadata": {},
     "output_type": "execute_result"
    },
    {
     "data": {
      "text/plain": [
       "'2015第五届云南省高校文化节“高教社杯”云南省大学生知识竞赛活动的通知'"
      ]
     },
     "execution_count": 3,
     "metadata": {},
     "output_type": "execute_result"
    },
    {
     "data": {
      "text/plain": [
       "163"
      ]
     },
     "execution_count": 3,
     "metadata": {},
     "output_type": "execute_result"
    },
    {
     "data": {
      "text/plain": [
       "{'n': Node('Title', name='4月社区活动'), 'id(n)': 187}"
      ]
     },
     "execution_count": 3,
     "metadata": {},
     "output_type": "execute_result"
    },
    {
     "data": {
      "text/plain": [
       "'4月社区活动'"
      ]
     },
     "execution_count": 3,
     "metadata": {},
     "output_type": "execute_result"
    },
    {
     "data": {
      "text/plain": [
       "187"
      ]
     },
     "execution_count": 3,
     "metadata": {},
     "output_type": "execute_result"
    },
    {
     "data": {
      "text/plain": [
       "{'n': Node('Title', name='play with ME活动通知'), 'id(n)': 206}"
      ]
     },
     "execution_count": 3,
     "metadata": {},
     "output_type": "execute_result"
    },
    {
     "data": {
      "text/plain": [
       "'play with ME活动通知'"
      ]
     },
     "execution_count": 3,
     "metadata": {},
     "output_type": "execute_result"
    },
    {
     "data": {
      "text/plain": [
       "206"
      ]
     },
     "execution_count": 3,
     "metadata": {},
     "output_type": "execute_result"
    },
    {
     "data": {
      "text/plain": [
       "{'n': Node('Title', name='“RunningME”通知'), 'id(n)': 231}"
      ]
     },
     "execution_count": 3,
     "metadata": {},
     "output_type": "execute_result"
    },
    {
     "data": {
      "text/plain": [
       "'“RunningME”通知'"
      ]
     },
     "execution_count": 3,
     "metadata": {},
     "output_type": "execute_result"
    },
    {
     "data": {
      "text/plain": [
       "231"
      ]
     },
     "execution_count": 3,
     "metadata": {},
     "output_type": "execute_result"
    },
    {
     "data": {
      "text/plain": [
       "{'n': Node('Title', name='“show ME your dormitory”活动通知'), 'id(n)': 257}"
      ]
     },
     "execution_count": 3,
     "metadata": {},
     "output_type": "execute_result"
    },
    {
     "data": {
      "text/plain": [
       "'“show ME your dormitory”活动通知'"
      ]
     },
     "execution_count": 3,
     "metadata": {},
     "output_type": "execute_result"
    },
    {
     "data": {
      "text/plain": [
       "257"
      ]
     },
     "execution_count": 3,
     "metadata": {},
     "output_type": "execute_result"
    },
    {
     "data": {
      "text/plain": [
       "{'n': Node('Title', name='“Show Me ·I Know”挑战赛通知'), 'id(n)': 275}"
      ]
     },
     "execution_count": 3,
     "metadata": {},
     "output_type": "execute_result"
    },
    {
     "data": {
      "text/plain": [
       "'“Show Me ·I Know”挑战赛通知'"
      ]
     },
     "execution_count": 3,
     "metadata": {},
     "output_type": "execute_result"
    },
    {
     "data": {
      "text/plain": [
       "275"
      ]
     },
     "execution_count": 3,
     "metadata": {},
     "output_type": "execute_result"
    },
    {
     "data": {
      "text/plain": [
       "{'n': Node('Title', name='“我爱昆工”校园文化创意产品设计大赛通知'), 'id(n)': 300}"
      ]
     },
     "execution_count": 3,
     "metadata": {},
     "output_type": "execute_result"
    },
    {
     "data": {
      "text/plain": [
       "'“我爱昆工”校园文化创意产品设计大赛通知'"
      ]
     },
     "execution_count": 3,
     "metadata": {},
     "output_type": "execute_result"
    },
    {
     "data": {
      "text/plain": [
       "300"
      ]
     },
     "execution_count": 3,
     "metadata": {},
     "output_type": "execute_result"
    },
    {
     "data": {
      "text/plain": [
       "{'n': Node('Title', name='“爱校文明卫生月”活动方案'), 'id(n)': 319}"
      ]
     },
     "execution_count": 3,
     "metadata": {},
     "output_type": "execute_result"
    },
    {
     "data": {
      "text/plain": [
       "'“爱校文明卫生月”活动方案'"
      ]
     },
     "execution_count": 3,
     "metadata": {},
     "output_type": "execute_result"
    },
    {
     "data": {
      "text/plain": [
       "319"
      ]
     },
     "execution_count": 3,
     "metadata": {},
     "output_type": "execute_result"
    },
    {
     "data": {
      "text/plain": [
       "{'n': Node('Title', name='关于“昆工创客孵化器”首批入孵团队遴选的通知'), 'id(n)': 334}"
      ]
     },
     "execution_count": 3,
     "metadata": {},
     "output_type": "execute_result"
    },
    {
     "data": {
      "text/plain": [
       "'关于“昆工创客孵化器”首批入孵团队遴选的通知'"
      ]
     },
     "execution_count": 3,
     "metadata": {},
     "output_type": "execute_result"
    },
    {
     "data": {
      "text/plain": [
       "334"
      ]
     },
     "execution_count": 3,
     "metadata": {},
     "output_type": "execute_result"
    },
    {
     "data": {
      "text/plain": [
       "{'n': Node('Title', name='关于举办“MM创新孵化基地”云南移动客户端首期校园牛人推广大赛的通知'), 'id(n)': 357}"
      ]
     },
     "execution_count": 3,
     "metadata": {},
     "output_type": "execute_result"
    },
    {
     "data": {
      "text/plain": [
       "'关于举办“MM创新孵化基地”云南移动客户端首期校园牛人推广大赛的通知'"
      ]
     },
     "execution_count": 3,
     "metadata": {},
     "output_type": "execute_result"
    },
    {
     "data": {
      "text/plain": [
       "357"
      ]
     },
     "execution_count": 3,
     "metadata": {},
     "output_type": "execute_result"
    },
    {
     "data": {
      "text/plain": [
       "{'n': Node('Title', name='关于举办昆明理工大学2015年云南省大学生乐团高雅艺术进校园演出的通知'), 'id(n)': 385}"
      ]
     },
     "execution_count": 3,
     "metadata": {},
     "output_type": "execute_result"
    },
    {
     "data": {
      "text/plain": [
       "'关于举办昆明理工大学2015年云南省大学生乐团高雅艺术进校园演出的通知'"
      ]
     },
     "execution_count": 3,
     "metadata": {},
     "output_type": "execute_result"
    },
    {
     "data": {
      "text/plain": [
       "385"
      ]
     },
     "execution_count": 3,
     "metadata": {},
     "output_type": "execute_result"
    },
    {
     "data": {
      "text/plain": [
       "{'n': Node('Title', name='关于举办昆明理工大学首届公益广告设计大赛的通知'), 'id(n)': 410}"
      ]
     },
     "execution_count": 3,
     "metadata": {},
     "output_type": "execute_result"
    },
    {
     "data": {
      "text/plain": [
       "'关于举办昆明理工大学首届公益广告设计大赛的通知'"
      ]
     },
     "execution_count": 3,
     "metadata": {},
     "output_type": "execute_result"
    },
    {
     "data": {
      "text/plain": [
       "410"
      ]
     },
     "execution_count": 3,
     "metadata": {},
     "output_type": "execute_result"
    },
    {
     "data": {
      "text/plain": [
       "{'n': Node('Title', name='关于号召全校师生为第十届中国大学生年度人物投票的通知'), 'id(n)': 440}"
      ]
     },
     "execution_count": 3,
     "metadata": {},
     "output_type": "execute_result"
    },
    {
     "data": {
      "text/plain": [
       "'关于号召全校师生为第十届中国大学生年度人物投票的通知'"
      ]
     },
     "execution_count": 3,
     "metadata": {},
     "output_type": "execute_result"
    },
    {
     "data": {
      "text/plain": [
       "440"
      ]
     },
     "execution_count": 3,
     "metadata": {},
     "output_type": "execute_result"
    },
    {
     "data": {
      "text/plain": [
       "{'n': Node('Title', name='关于启动昆工创客行动暨举办2015年首届昆明理工大学学生创新创业大赛的通知'),\n",
       " 'id(n)': 462}"
      ]
     },
     "execution_count": 3,
     "metadata": {},
     "output_type": "execute_result"
    },
    {
     "data": {
      "text/plain": [
       "'关于启动昆工创客行动暨举办2015年首届昆明理工大学学生创新创业大赛的通知'"
      ]
     },
     "execution_count": 3,
     "metadata": {},
     "output_type": "execute_result"
    },
    {
     "data": {
      "text/plain": [
       "462"
      ]
     },
     "execution_count": 3,
     "metadata": {},
     "output_type": "execute_result"
    },
    {
     "data": {
      "text/plain": [
       "{'n': Node('Title', name='关于在3•5学雷锋日期间集中开展志愿服务系列活动的通知'), 'id(n)': 510}"
      ]
     },
     "execution_count": 3,
     "metadata": {},
     "output_type": "execute_result"
    },
    {
     "data": {
      "text/plain": [
       "'关于在3•5学雷锋日期间集中开展志愿服务系列活动的通知'"
      ]
     },
     "execution_count": 3,
     "metadata": {},
     "output_type": "execute_result"
    },
    {
     "data": {
      "text/plain": [
       "510"
      ]
     },
     "execution_count": 3,
     "metadata": {},
     "output_type": "execute_result"
    },
    {
     "data": {
      "text/plain": [
       "{'n': Node('Title', name='关于在清明节期间集中开展“清明祭英烈共铸中华魂”主题宣传教育活动的通知'), 'id(n)': 538}"
      ]
     },
     "execution_count": 3,
     "metadata": {},
     "output_type": "execute_result"
    },
    {
     "data": {
      "text/plain": [
       "'关于在清明节期间集中开展“清明祭英烈共铸中华魂”主题宣传教育活动的通知'"
      ]
     },
     "execution_count": 3,
     "metadata": {},
     "output_type": "execute_result"
    },
    {
     "data": {
      "text/plain": [
       "538"
      ]
     },
     "execution_count": 3,
     "metadata": {},
     "output_type": "execute_result"
    },
    {
     "data": {
      "text/plain": [
       "{'n': Node('Title', name='关于开展在校生电子商务创业情况调查的通知'), 'id(n)': 563}"
      ]
     },
     "execution_count": 3,
     "metadata": {},
     "output_type": "execute_result"
    },
    {
     "data": {
      "text/plain": [
       "'关于开展在校生电子商务创业情况调查的通知'"
      ]
     },
     "execution_count": 3,
     "metadata": {},
     "output_type": "execute_result"
    },
    {
     "data": {
      "text/plain": [
       "563"
      ]
     },
     "execution_count": 3,
     "metadata": {},
     "output_type": "execute_result"
    },
    {
     "data": {
      "text/plain": [
       "{'n': Node('Title', name='关于开展消防安全宣传教育月活动的通知'), 'id(n)': 586}"
      ]
     },
     "execution_count": 3,
     "metadata": {},
     "output_type": "execute_result"
    },
    {
     "data": {
      "text/plain": [
       "'关于开展消防安全宣传教育月活动的通知'"
      ]
     },
     "execution_count": 3,
     "metadata": {},
     "output_type": "execute_result"
    },
    {
     "data": {
      "text/plain": [
       "586"
      ]
     },
     "execution_count": 3,
     "metadata": {},
     "output_type": "execute_result"
    },
    {
     "data": {
      "text/plain": [
       "{'n': Node('Title', name='关于我校网络文明志愿者注册工作及基层团委考核满意度测评工作的通知'), 'id(n)': 600}"
      ]
     },
     "execution_count": 3,
     "metadata": {},
     "output_type": "execute_result"
    },
    {
     "data": {
      "text/plain": [
       "'关于我校网络文明志愿者注册工作及基层团委考核满意度测评工作的通知'"
      ]
     },
     "execution_count": 3,
     "metadata": {},
     "output_type": "execute_result"
    },
    {
     "data": {
      "text/plain": [
       "600"
      ]
     },
     "execution_count": 3,
     "metadata": {},
     "output_type": "execute_result"
    },
    {
     "data": {
      "text/plain": [
       "{'n': Node('Title', name='关于校运动会期间停课的通知11.13'), 'id(n)': 617}"
      ]
     },
     "execution_count": 3,
     "metadata": {},
     "output_type": "execute_result"
    },
    {
     "data": {
      "text/plain": [
       "'关于校运动会期间停课的通知11.13'"
      ]
     },
     "execution_count": 3,
     "metadata": {},
     "output_type": "execute_result"
    },
    {
     "data": {
      "text/plain": [
       "617"
      ]
     },
     "execution_count": 3,
     "metadata": {},
     "output_type": "execute_result"
    },
    {
     "data": {
      "text/plain": [
       "{'n': Node('Title', name='关于管理与经济学院团委学生会2015-2016学年呈贡校区主席、部长竞选的通知(修改版)'),\n",
       " 'id(n)': 629}"
      ]
     },
     "execution_count": 3,
     "metadata": {},
     "output_type": "execute_result"
    },
    {
     "data": {
      "text/plain": [
       "'关于管理与经济学院团委学生会2015-2016学年呈贡校区主席、部长竞选的通知(修改版)'"
      ]
     },
     "execution_count": 3,
     "metadata": {},
     "output_type": "execute_result"
    },
    {
     "data": {
      "text/plain": [
       "629"
      ]
     },
     "execution_count": 3,
     "metadata": {},
     "output_type": "execute_result"
    },
    {
     "data": {
      "text/plain": [
       "{'n': Node('Title', name='关于组织学生申报2016年学生课外学术科技创新基金课题的预通知'), 'id(n)': 660}"
      ]
     },
     "execution_count": 3,
     "metadata": {},
     "output_type": "execute_result"
    },
    {
     "data": {
      "text/plain": [
       "'关于组织学生申报2016年学生课外学术科技创新基金课题的预通知'"
      ]
     },
     "execution_count": 3,
     "metadata": {},
     "output_type": "execute_result"
    },
    {
     "data": {
      "text/plain": [
       "660"
      ]
     },
     "execution_count": 3,
     "metadata": {},
     "output_type": "execute_result"
    },
    {
     "data": {
      "text/plain": [
       "{'n': Node('Title', name='关于组织开展大智慧全国大学生金融精英挑战赛的通知'), 'id(n)': 688}"
      ]
     },
     "execution_count": 3,
     "metadata": {},
     "output_type": "execute_result"
    },
    {
     "data": {
      "text/plain": [
       "'关于组织开展大智慧全国大学生金融精英挑战赛的通知'"
      ]
     },
     "execution_count": 3,
     "metadata": {},
     "output_type": "execute_result"
    },
    {
     "data": {
      "text/plain": [
       "688"
      ]
     },
     "execution_count": 3,
     "metadata": {},
     "output_type": "execute_result"
    },
    {
     "data": {
      "text/plain": [
       "{'n': Node('Title', name='关于组织我校留学生申报2015学年云南省政府奖学金的通知'), 'id(n)': 716}"
      ]
     },
     "execution_count": 3,
     "metadata": {},
     "output_type": "execute_result"
    },
    {
     "data": {
      "text/plain": [
       "'关于组织我校留学生申报2015学年云南省政府奖学金的通知'"
      ]
     },
     "execution_count": 3,
     "metadata": {},
     "output_type": "execute_result"
    },
    {
     "data": {
      "text/plain": [
       "716"
      ]
     },
     "execution_count": 3,
     "metadata": {},
     "output_type": "execute_result"
    },
    {
     "data": {
      "text/plain": [
       "{'n': Node('Title', name='关于表彰学校2015年学生课外学术科技作品竞赛获奖单位和个人的决定'), 'id(n)': 739}"
      ]
     },
     "execution_count": 3,
     "metadata": {},
     "output_type": "execute_result"
    },
    {
     "data": {
      "text/plain": [
       "'关于表彰学校2015年学生课外学术科技作品竞赛获奖单位和个人的决定'"
      ]
     },
     "execution_count": 3,
     "metadata": {},
     "output_type": "execute_result"
    },
    {
     "data": {
      "text/plain": [
       "739"
      ]
     },
     "execution_count": 3,
     "metadata": {},
     "output_type": "execute_result"
    },
    {
     "data": {
      "text/plain": [
       "{'n': Node('Title', name='关于评选昆明理工大学2014年度团内先进集体和先进个人的通知'), 'id(n)': 753}"
      ]
     },
     "execution_count": 3,
     "metadata": {},
     "output_type": "execute_result"
    },
    {
     "data": {
      "text/plain": [
       "'关于评选昆明理工大学2014年度团内先进集体和先进个人的通知'"
      ]
     },
     "execution_count": 3,
     "metadata": {},
     "output_type": "execute_result"
    },
    {
     "data": {
      "text/plain": [
       "753"
      ]
     },
     "execution_count": 3,
     "metadata": {},
     "output_type": "execute_result"
    },
    {
     "data": {
      "text/plain": [
       "{'n': Node('Title', name='关于青年网络文明志愿者注册通知'), 'id(n)': 783}"
      ]
     },
     "execution_count": 3,
     "metadata": {},
     "output_type": "execute_result"
    },
    {
     "data": {
      "text/plain": [
       "'关于青年网络文明志愿者注册通知'"
      ]
     },
     "execution_count": 3,
     "metadata": {},
     "output_type": "execute_result"
    },
    {
     "data": {
      "text/plain": [
       "783"
      ]
     },
     "execution_count": 3,
     "metadata": {},
     "output_type": "execute_result"
    }
   ],
   "source": [
    "result = graph.run(query).data()\n",
    "for i in result:\n",
    "    i\n",
    "    i[\"n\"][\"name\"]\n",
    "    i[\"id(n)\"]\n"
   ]
  },
  {
   "cell_type": "code",
   "execution_count": 4,
   "metadata": {},
   "outputs": [
    {
     "data": {
      "text/plain": [
       "'将文件批量插入数据库'"
      ]
     },
     "execution_count": 4,
     "metadata": {},
     "output_type": "execute_result"
    }
   ],
   "source": [
    "\"\"\"将文件批量插入数据库\"\"\"\n",
    "from py2neo import Graph, Node, Relationship\n",
    "import os\n",
    "import time\n",
    "graph = Graph(\"http://localhost:7474\", auth=(\"neo4j\", \"010209\"))\n",
    "query = \"MATCH (n:Title) RETURN n,id(n)\"\n",
    "result = graph.run(query).data()\n",
    "neoFileName = []\n",
    "neoFileId = []\n",
    "for i in result:\n",
    "    neoFileName.append(i[\"n\"][\"name\"])\n",
    "    neoFileId.append(i[\"id(n)\"])\n",
    "\n",
    "filePath = r\"C:\\Users\\冰\\Desktop\\NFQA后端开发\\public\\Word\"  # 文件夹路径\n",
    "# fileList = os.listdir(filePath)\n",
    "\n",
    "# for file in fileList:\n",
    "for i, file in enumerate(neoFileName):\n",
    "    # with open(os.path.join(filePath, file), encoding='UTF-8') as f:\n",
    "    # neoFileName =ne \".docx\"\n",
    "    filename = neoFileName[i]+'.docx'\n",
    "    mtime = os.stat(os.path.join(filePath, filename)).st_mtime\n",
    "    file_modify_time = time.strftime(\n",
    "        '%Y-%m-%d %H:%M:%S', time.localtime(mtime))\n",
    "    # Notice(name=file, date=file_modify_time, file_id=neoFileId[i]).save()\n"
   ]
  }
 ],
 "metadata": {
  "interpreter": {
   "hash": "e700657700ca3726e7d919db0cb1bdb00b1449743532d1443fbe37ca2c1ec67d"
  },
  "kernelspec": {
   "display_name": "Python 3.7.3 64-bit",
   "language": "python",
   "name": "python3"
  },
  "language_info": {
   "codemirror_mode": {
    "name": "ipython",
    "version": 3
   },
   "file_extension": ".py",
   "mimetype": "text/x-python",
   "name": "python",
   "nbconvert_exporter": "python",
   "pygments_lexer": "ipython3",
   "version": "3.7.3"
  },
  "orig_nbformat": 4
 },
 "nbformat": 4,
 "nbformat_minor": 2
}
