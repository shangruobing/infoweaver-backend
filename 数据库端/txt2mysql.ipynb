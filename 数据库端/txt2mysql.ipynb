{
 "cells": [
  {
   "cell_type": "code",
   "execution_count": null,
   "metadata": {},
   "outputs": [],
   "source": [
    "\"\"\"\n",
    "将文件批量插入数据库\n",
    "注意:因为使用了Django的ORM\n",
    "所以需要在Django服务器中运行\n",
    "\"\"\"\n",
    "from py2neo import Graph\n",
    "import os\n",
    "import time\n",
    "\n",
    "graph = Graph(\"http://localhost:7474\", auth=(\"neo4j\", \"010209\"))\n",
    "\n",
    "query = \"MATCH (n:Title)-[*2]-(t:abstract) RETURN n,id(n),collect(t.name)\"\n",
    "result = graph.run(query).data()\n",
    "neoFileName = []\n",
    "neoFileId = []\n",
    "neoContent = []\n",
    "for i in result:\n",
    "    neoFileName.append(i[\"n\"][\"name\"])\n",
    "    neoFileId.append(i[\"id(n)\"])\n",
    "    neoContent.append(i[\"collect(t.name)\"])\n",
    "\n",
    "filePath = r\"C:\\Users\\冰\\Desktop\\NFQA后端开发\\public\\Word\"  # 文件夹路径\n",
    "for i, file in enumerate(neoFileName):\n",
    "    filename = neoFileName[i] + \".docx\"\n",
    "    mtime = os.stat(os.path.join(filePath, filename)).st_mtime\n",
    "    file_modify_time = time.strftime(\n",
    "        '%Y-%m-%d %H:%M:%S', time.localtime(mtime))\n",
    "    # Notice(name=filename, date=file_modify_time,file_id=neoFileId[i], content=neoContent[i]).save()\n"
   ]
  }
 ],
 "metadata": {
  "interpreter": {
   "hash": "e700657700ca3726e7d919db0cb1bdb00b1449743532d1443fbe37ca2c1ec67d"
  },
  "kernelspec": {
   "display_name": "Python 3.7.3 64-bit",
   "language": "python",
   "name": "python3"
  },
  "language_info": {
   "codemirror_mode": {
    "name": "ipython",
    "version": 3
   },
   "file_extension": ".py",
   "mimetype": "text/x-python",
   "name": "python",
   "nbconvert_exporter": "python",
   "pygments_lexer": "ipython3",
   "version": "3.7.3"
  },
  "orig_nbformat": 4
 },
 "nbformat": 4,
 "nbformat_minor": 2
}