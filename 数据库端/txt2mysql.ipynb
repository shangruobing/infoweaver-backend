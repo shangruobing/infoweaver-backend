{
 "cells": [
  {
   "cell_type": "code",
   "execution_count": null,
   "metadata": {},
   "outputs": [],
   "source": [
    "from py2neo import Graph, Node, Relationship\n",
    "\n",
    "graph = Graph(\"http://localhost:7474\", auth=(\"neo4j\", \"010209\"))"
   ]
  },
  {
   "cell_type": "code",
   "execution_count": null,
   "metadata": {},
   "outputs": [],
   "source": [
    "query = \"MATCH (n:Title) RETURN n,id(n)\"\n",
    "graph.run(query).data\n"
   ]
  },
  {
   "cell_type": "code",
   "execution_count": null,
   "metadata": {},
   "outputs": [],
   "source": [
    "result = graph.run(query).data()\n",
    "for i in result:\n",
    "    i\n",
    "    i[\"n\"][\"name\"]\n",
    "    i[\"id(n)\"]\n"
   ]
  },
  {
   "cell_type": "code",
   "execution_count": null,
   "metadata": {},
   "outputs": [],
   "source": [
    "\"\"\"将文件批量插入数据库\"\"\"\n",
    "from py2neo import Graph, Node, Relationship\n",
    "import os\n",
    "import time\n",
    "graph = Graph(\"http://localhost:7474\", auth=(\"neo4j\", \"010209\"))\n",
    "query = \"MATCH (n:Title) RETURN n,id(n)\"\n",
    "result = graph.run(query).data()\n",
    "neoFileName = []\n",
    "neoFileId = []\n",
    "for i in result:\n",
    "    neoFileName.append(i[\"n\"][\"name\"])\n",
    "    neoFileId.append(i[\"id(n)\"])\n",
    "\n",
    "filePath = r\"C:\\Users\\冰\\Desktop\\NFQA后端开发\\public\\Word\"  # 文件夹路径\n",
    "# fileList = os.listdir(filePath)\n",
    "\n",
    "# for file in fileList:\n",
    "for i, file in enumerate(neoFileName):\n",
    "    # with open(os.path.join(filePath, file), encoding='UTF-8') as f:\n",
    "    # neoFileName =ne \".docx\"\n",
    "    filename = neoFileName[i]+'.docx'\n",
    "    mtime = os.stat(os.path.join(filePath, filename)).st_mtime\n",
    "    file_modify_time = time.strftime(\n",
    "        '%Y-%m-%d %H:%M:%S', time.localtime(mtime))\n",
    "    # Notice(name=file, date=file_modify_time, file_id=neoFileId[i]).save()\n"
   ]
  }
 ],
 "metadata": {
  "interpreter": {
   "hash": "e700657700ca3726e7d919db0cb1bdb00b1449743532d1443fbe37ca2c1ec67d"
  },
  "kernelspec": {
   "display_name": "Python 3.7.3 64-bit",
   "language": "python",
   "name": "python3"
  },
  "language_info": {
   "codemirror_mode": {
    "name": "ipython",
    "version": 3
   },
   "file_extension": ".py",
   "mimetype": "text/x-python",
   "name": "python",
   "nbconvert_exporter": "python",
   "pygments_lexer": "ipython3",
   "version": "3.7.3"
  },
  "orig_nbformat": 4
 },
 "nbformat": 4,
 "nbformat_minor": 2
}
