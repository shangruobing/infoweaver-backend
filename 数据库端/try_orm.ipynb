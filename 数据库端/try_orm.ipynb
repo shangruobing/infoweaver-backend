{
 "cells": [
  {
   "cell_type": "code",
   "execution_count": 103,
   "metadata": {},
   "outputs": [],
   "source": [
    "from py2neo import Graph, Node, Relationship\n",
    "\n",
    "graph = Graph(\"http://localhost:7474\", auth=(\"neo4j\", \"010209\"))\n"
   ]
  },
  {
   "cell_type": "code",
   "execution_count": 104,
   "metadata": {},
   "outputs": [],
   "source": [
    "from py2neo.matching import *\n",
    "nodes=NodeMatcher(graph)"
   ]
  },
  {
   "cell_type": "code",
   "execution_count": 105,
   "metadata": {},
   "outputs": [
    {
     "data": {
      "text/plain": [
       "Node('Title', name='2014-2015学年管理与经济学院团学评优通知')"
      ]
     },
     "execution_count": 105,
     "metadata": {},
     "output_type": "execute_result"
    }
   ],
   "source": [
    "node1 = nodes.match('Title', name=\"2014-2015学年管理与经济学院团学评优通知\").first()\n",
    "node1\n"
   ]
  },
  {
   "cell_type": "code",
   "execution_count": 106,
   "metadata": {},
   "outputs": [
    {
     "data": {
      "text/plain": [
       "{'_remote_labels': frozenset({'Title'}),\n",
       " '_labels': {'Title'},\n",
       " '_Walkable__sequence': (Node('Title', name='2014-2015学年管理与经济学院团学评优通知'),),\n",
       " '_Subgraph__nodes': frozenset({Node('Title', name='2014-2015学年管理与经济学院团学评优通知')}),\n",
       " '_Subgraph__relationships': frozenset(),\n",
       " '__uuid__': 'd5d3d227-1fae-4808-844a-1f547c91cf86',\n",
       " '_stale': set(),\n",
       " '_graph': Graph('http://localhost:7474'),\n",
       " 'identity': 1915}"
      ]
     },
     "execution_count": 106,
     "metadata": {},
     "output_type": "execute_result"
    }
   ],
   "source": [
    "node1.__dict__"
   ]
  },
  {
   "cell_type": "code",
   "execution_count": 97,
   "metadata": {},
   "outputs": [
    {
     "data": {
      "text/plain": [
       "Node('Movie', released=1999, tagline='Welcome to the Real World', title='The Matrix')"
      ]
     },
     "execution_count": 97,
     "metadata": {},
     "output_type": "execute_result"
    }
   ],
   "source": [
    "node2 = nodes.match('Movie', title=\"The Matrix\").first()\n",
    "node2\n"
   ]
  },
  {
   "cell_type": "code",
   "execution_count": 98,
   "metadata": {},
   "outputs": [
    {
     "data": {
      "text/plain": [
       "{'_remote_labels': frozenset({'Movie'}),\n",
       " '_labels': {'Movie'},\n",
       " '_Walkable__sequence': (Node('Movie', released=1999, tagline='Welcome to the Real World', title='The Matrix'),),\n",
       " '_Subgraph__nodes': frozenset({Node('Movie', released=1999, tagline='Welcome to the Real World', title='The Matrix')}),\n",
       " '_Subgraph__relationships': frozenset(),\n",
       " '__uuid__': '3508f23f-7cd4-47e1-a90e-5d386cb997f0',\n",
       " '_stale': set(),\n",
       " '_graph': Graph('http://localhost:7474', name='learn'),\n",
       " 'identity': 0}"
      ]
     },
     "execution_count": 98,
     "metadata": {},
     "output_type": "execute_result"
    }
   ],
   "source": [
    "node2.__dict__"
   ]
  },
  {
   "cell_type": "code",
   "execution_count": 107,
   "metadata": {},
   "outputs": [],
   "source": [
    "relationships=RelationshipMatcher(graph)"
   ]
  },
  {
   "cell_type": "code",
   "execution_count": 109,
   "metadata": {},
   "outputs": [
    {
     "data": {
      "text/plain": [
       "<py2neo.matching.RelationshipMatch at 0x230aadfaef0>"
      ]
     },
     "execution_count": 109,
     "metadata": {},
     "output_type": "execute_result"
    }
   ],
   "source": [
    "relation = relationships.match([node1])\n",
    "relation\n"
   ]
  },
  {
   "cell_type": "code",
   "execution_count": 110,
   "metadata": {},
   "outputs": [
    {
     "data": {
      "text/plain": [
       "{'graph': Graph('http://localhost:7474'),\n",
       " '_nodes': [Node('Title', name='2014-2015学年管理与经济学院团学评优通知')],\n",
       " '_r_type': None,\n",
       " '_predicates': (),\n",
       " '_order_by': (),\n",
       " '_skip': None,\n",
       " '_limit': None}"
      ]
     },
     "execution_count": 110,
     "metadata": {},
     "output_type": "execute_result"
    }
   ],
   "source": [
    "relation.__dict__"
   ]
  },
  {
   "cell_type": "code",
   "execution_count": 113,
   "metadata": {},
   "outputs": [
    {
     "data": {
      "text/plain": [
       "ORG(Node('Title', name='2014-2015学年管理与经济学院团学评优通知'), Node('ORG', name='ORG2014-2015学年管理与经济学院团学评优通知'), name='has_org')"
      ]
     },
     "execution_count": 113,
     "metadata": {},
     "output_type": "execute_result"
    },
    {
     "data": {
      "text/plain": [
       "Location(Node('Title', name='2014-2015学年管理与经济学院团学评优通知'), Node('Location', name='Loc2014-2015学年管理与经济学院团学评优通知'), name='has_location')"
      ]
     },
     "execution_count": 113,
     "metadata": {},
     "output_type": "execute_result"
    },
    {
     "data": {
      "text/plain": [
       "Person(Node('Title', name='2014-2015学年管理与经济学院团学评优通知'), Node('Person', name='Person2014-2015学年管理与经济学院团学评优通知'), name='has_person')"
      ]
     },
     "execution_count": 113,
     "metadata": {},
     "output_type": "execute_result"
    },
    {
     "data": {
      "text/plain": [
       "Time(Node('Title', name='2014-2015学年管理与经济学院团学评优通知'), Node('Time', name='Time2014-2015学年管理与经济学院团学评优通知'), name='has_time')"
      ]
     },
     "execution_count": 113,
     "metadata": {},
     "output_type": "execute_result"
    },
    {
     "data": {
      "text/plain": [
       "File(Node('Title', name='2014-2015学年管理与经济学院团学评优通知'), Node('File', name='关于评选管理与经济学院2014-2015学年度团学先进集体和先进个人的通知为表彰先进、树立典范，鼓舞和激励我院的广大团学青年努力学习，奋发成才，创建优良学风，我院决定对2014-2015学年度在学习、社会工作、科技文化艺术等方面表现优秀的集体和个人进行表彰，现将具体表彰事宜通知如下：奖项设置及名额：集体奖项：优秀团支部（3个）、先进班集体（3个）个人奖项：社会工作标兵（10人）、优秀学生干部（20人）、优秀共青团员（30人）、三好学生（30人）、优秀团支部书记（6人）、优秀班长（6人）、文体先进个人（30人）、科技学术先进个人（20人）评选条件及推荐比例评选条件（符合条件申报）优秀团支部参评条件团支部的机构、制度和领导班子健全，班级干部的学习成绩、思想品德、工作作风均比较好，有乐于奉献的精神，在团员中有较高威望；团支部能把团的文件、档案管理好，团费收缴及时，团内好人好事及违法违纪事件上报及时，处理得当；团的会议及组织生活有记录，班子换届按章按期举行；团支部积极开展团员思想教育和宣传工作、社会实践活动、文体活动，协助辅导员，13、14级必须每月按要求参加团日活动开展和评比，团支部按要求认真参与学院的各项活动，无缺席情况，支部所属团学干部无违纪现象。先进班集体参评条件（符合条件申报）（1）有政治思想素质好、团结协作、以身作则、联系同学的班级领导核心。团学活动相结合，按要求完成团日活动，效果明显。（2）有朝气蓬勃、积极上进、乐于助人、遵纪守法、集体观念强、文明健康的良好班风，2014-2015学年班级中无违纪学生。  4、班级学习风气好，有勤奋、严谨、创新的优良学风。2014——2015学年上学期，一、二年级智育平均分在70分以上，三、四年级智育平均分在75分以上，一、二年级补考率小于或等于5%，三、四年级补考率小于或等于4%。5、保持良好的环境卫生和个人卫生，积极开展创建文明宿舍活动，效果好，2014-2015学年上学期，学生社区品行表现测评平均分均在68分以上。6、积极开展体育锻炼，全班同学达到《国家体育锻炼标准》。社会工作标兵参评条件（12、13级各班和各社团推荐1人，团委学生会推荐4人候选）   除要满足院级“优秀学生干部”条件外，本人必须曾经全面有效的组织过学校学院大型学生活动，在团学工作中有突出表现，有实际的工作成绩，得到广大师生认可。优秀学生干部参评条件（12、13、14级每班和各社团推荐2人，其中在团日活动开展方面，未按要求完成的班级减少名额至1人，社团方面未按要求开展规定数目活动的社团，推荐名额名额减少至1人），团委学生会推荐7人候选）有坚定正确的政治方向，品德高尚，熟悉团学工作的基本知识和基本方法，工作认真负责，办事公道、正派，敢于大胆管理，有为同学服务的奉献精神；无违纪行为；能密切联系团结同学，积极维护广大同学的利益，熟悉我院同学的思想、学习和生活情况；学习生活上做表率，学习态度端正，学习目的明确，2013—2014学年下学期(14级不要求)以及2014—2015学年上学期综合测评均在70分以上，无重修,补考门次不少过2门；社区品行表现测评在70分以上（包括70分）；担任班级、团支部或者学院团委学生会干部，任期一年及以上（14级可参评，从入学至今担任即可）；原则上本学年中已获校级优秀共青团干部和优秀学生干部的同学不在评选范围。优秀共青团员参评条件（12、13、14级每班和各社团推荐2人，其中在团日活动开展方面，未按要求完成的班级减少名额至1人，社团方面未按要求开展规定数目活动的社团，推荐名额名额减少至1人，团委学生会推荐7人候选）有坚定的政治信仰，拥护党的路线、方针、政策，品德高尚，模范遵守团的纪律和校纪、校规，按期交纳团费，模范地履行团员义务；自觉培养共产主义道德风尚，确实在广大同学中发挥模范带头作用，政治上积极向党组织靠拢；无违纪行为。积极参加团组织安排的课外学术、科技和社会实践活动等各项活动；刻苦学习，2013—2014学年下学期（14级不要求)以及2014—2015上学期综合测评成绩均在75分以上（包括75分），无补考和重修；社区品行表现测评在7分以上（包括7分）；三好学生参评条件（每班推荐2-3名同学参评）认真学习马列主义、毛泽东思想、邓小平理论和“三个代表”重要思想，坚持科学发展观，有坚定的政治方向，拥护党的基本路线，热爱祖国，有优良的道德品质和良好的文明习惯，模范遵守法律法令和学校的规章制度，无违纪现象；热爱集体和社会工作，有团结协作精神，积极参加集体和社会实践活动，有较强的社会责任感、公民道德意识和社会适应能力；热爱所学专业，勤奋学习，善于学习和吸收新知识，成绩优异，并有较强的运用知识解决实际问题的能力和创新精神，无补考重修，2013—2014学年下学期(14级不要求)以及2014—2015上学期连续两次获得丙等或丙等以上奖学金，智育及综合成绩排名均在班级前排名前15%以内，；优秀班长、优秀团支书参评条件(符合条件者均可参评)除要满足院级“优秀学生干部”资格外，本人担任班长或团支部之上一年（14级从入学至今任职的可参评）及以上年限，必须积极参与班级、团支部事务的管理，及时高效地完成上级组织交代的任务（特别是团日活动和学院安排的各项活动班上没有出现未按要求完成的情况），经常与同学进行沟通，积极维护班级广大同学的利益，了解班级同学的思想和学习动态，及时向学院反应班级管理和发展中存在的困难与问题。 “文体先进个人”参评条件(符合条件者均可参评)本人必须遵纪守法、遵守学校管理，无违纪违规行为；具有在文化、艺术、体育方面具有突出特长，在2014—2015学年内代表学院参加或组织过代表队参加校级及以上的文化艺术体育活动并获奖，在此方面有着突出表现，得到广大师生的认可。科技学术积极分子参评条件(符合条件者均可参评)除要满足“优秀共青团员”资格外，本人积极参加学院学校的学术科技活动（如：学生课外课题、导师课题研究、发表学术论文、大学生创业计划大赛、各类学科竞赛等）并取得一定的实际成果，曾2013-2014学年下学期及2014—2015学年内荣获院级及以上奖励。注意事项：鉴于以上要求，请请各支部、班级、社团及学生会认真组织申报，参照评比标准进行民主推荐，最终推荐上报学院进行评比的集体和个人请认真填写申报表格（详见附件）并附申报材料一份（申报集体项目的支部材料要求字数不少于2000字且附有相关图片，个人材料字数不得少于300字）。材料申报提交形式截止时间：最迟于6月8日（周一）下午15:00前将申报材料按照“谁推荐谁提交”的方式统一上交学院（上交纸质及电子版材料各一份，电子材料以推荐单位姓名打包<如：会计121学院评优材料汇总>发送至负责老师的邮箱，呈贡校区发送至蒋仙老师邮箱（136019767@qq.com），莲华校区发送至任彭丹老师邮箱（674556490@qq.com）其中由团委学生会和各社团推荐的需在纸质申请表格的右上角用铅笔标注“由学生会或某某社团推荐”的字样，社团的材料的纸质和电子版由社团管理部负责汇总提交，团委学生会的纸质版和电子版由团委学生会负责统一提交。纸质材料上交地点：莲花校区：学院团委办公室（管理与经学院210室）呈贡校区：管理与经济学院辅导员办公室（憬园6108室）申报表附后，请自行填写打印，请按照现有表格模板填写，不要随意更改格式。各奖项原则上不兼评，但申报时可以视自身条件可同时申报，学院将进行最终的审核进行调整，请各班组织时尽量考虑表彰的覆盖面，择优推荐，不要浪费名额。请务必准时按要求上交申报表格及参评材料，过时或不按要求提交的将视为自动弃权。                     共青团昆明理工大学管理与经济学院委员会                             管理与经济学院学生工作办公室                                     2015年6月2日管理与经济学院“优秀团支部”评比推荐表先进事迹材料另附管理与经济学院2014—2015学年先进班集体推荐表先进事迹材料另附管理与经济学院“社会工作标兵”评比推荐表管理与经济学院“优秀学生干部”评比推荐表\\t管理与经济学院“优秀共青团员”评比推荐表\\t\\t\\t管理与经济学院“三好学生”推荐表管理与经济学院“优秀班长”“优秀团支部书记”申报表管理与经济学院“文体先进个人”评比推荐表管理与经济学院“科技学术先进个人”评比推荐表'), name='has_file')"
      ]
     },
     "execution_count": 113,
     "metadata": {},
     "output_type": "execute_result"
    },
    {
     "data": {
      "text/plain": [
       "Content(Node('Title', name='2014-2015学年管理与经济学院团学评优通知'), Node('Content', name='Content2014-2015学年管理与经济学院团学评优通知'), name='has_content')"
      ]
     },
     "execution_count": 113,
     "metadata": {},
     "output_type": "execute_result"
    }
   ],
   "source": [
    "for i in relation:\n",
    "    i\n"
   ]
  },
  {
   "cell_type": "code",
   "execution_count": 118,
   "metadata": {},
   "outputs": [
    {
     "data": {
      "text/plain": [
       "ORG(Node('Title', name='2014-2015学年管理与经济学院团学评优通知'), Node('ORG', name='ORG2014-2015学年管理与经济学院团学评优通知'), name='has_org')"
      ]
     },
     "execution_count": 118,
     "metadata": {},
     "output_type": "execute_result"
    }
   ],
   "source": [
    "relation.first()\n",
    "double_re=relationships.match([relation.first()])\n"
   ]
  },
  {
   "cell_type": "code",
   "execution_count": 121,
   "metadata": {},
   "outputs": [],
   "source": [
    "for i in double_re:\n",
    "    i"
   ]
  },
  {
   "cell_type": "code",
   "execution_count": 130,
   "metadata": {},
   "outputs": [],
   "source": [
    "anther_node=relation.first()\n",
    "\n"
   ]
  },
  {
   "cell_type": "code",
   "execution_count": 133,
   "metadata": {},
   "outputs": [
    {
     "data": {
      "text/plain": [
       "Node('ORG', name='ORG2014-2015学年管理与经济学院团学评优通知')"
      ]
     },
     "execution_count": 133,
     "metadata": {},
     "output_type": "execute_result"
    },
    {
     "data": {
      "text/plain": [
       "<py2neo.matching.RelationshipMatch at 0x230aae03898>"
      ]
     },
     "execution_count": 133,
     "metadata": {},
     "output_type": "execute_result"
    }
   ],
   "source": [
    "anther_node.end_node\n",
    "\n",
    "xx = relationships.match([anther_node.end_node])\n",
    "xx\n"
   ]
  },
  {
   "cell_type": "code",
   "execution_count": 134,
   "metadata": {},
   "outputs": [
    {
     "data": {
      "text/plain": [
       "organization(Node('ORG', name='ORG2014-2015学年管理与经济学院团学评优通知'), Node('org', name='经济学院委员会'), name='has_organization')"
      ]
     },
     "execution_count": 134,
     "metadata": {},
     "output_type": "execute_result"
    },
    {
     "data": {
      "text/plain": [
       "organization(Node('ORG', name='ORG2014-2015学年管理与经济学院团学评优通知'), Node('org', name='共青团昆明理工大学'), name='has_organization')"
      ]
     },
     "execution_count": 134,
     "metadata": {},
     "output_type": "execute_result"
    },
    {
     "data": {
      "text/plain": [
       "organization(Node('ORG', name='ORG2014-2015学年管理与经济学院团学评优通知'), Node('org', name='呈贡校区'), name='has_organization')"
      ]
     },
     "execution_count": 134,
     "metadata": {},
     "output_type": "execute_result"
    },
    {
     "data": {
      "text/plain": [
       "organization(Node('ORG', name='ORG2014-2015学年管理与经济学院团学评优通知'), Node('org', name='莲花校区'), name='has_organization')"
      ]
     },
     "execution_count": 134,
     "metadata": {},
     "output_type": "execute_result"
    },
    {
     "data": {
      "text/plain": [
       "organization(Node('ORG', name='ORG2014-2015学年管理与经济学院团学评优通知'), Node('org', name='共青团'), name='has_organization')"
      ]
     },
     "execution_count": 134,
     "metadata": {},
     "output_type": "execute_result"
    },
    {
     "data": {
      "text/plain": [
       "organization(Node('ORG', name='ORG2014-2015学年管理与经济学院团学评优通知'), Node('org', name='团委学生会'), name='has_organization')"
      ]
     },
     "execution_count": 134,
     "metadata": {},
     "output_type": "execute_result"
    }
   ],
   "source": [
    "for i in xx:\n",
    "    i\n"
   ]
  },
  {
   "cell_type": "code",
   "execution_count": 141,
   "metadata": {},
   "outputs": [
    {
     "data": {
      "text/plain": [
       "Path(Node('ORG', name='ORG2014-2015学年管理与经济学院团学评优通知'), organization(Node('ORG', name='ORG2014-2015学年管理与经济学院团学评优通知'), Node('org', name='经济学院委员会'), name='has_organization'), organization(Node('ORG', name='ORG2014-2015学年管理与经济学院团学评优通知'), Node('org', name='经济学院委员会'), name='has_organization'))"
      ]
     },
     "execution_count": 141,
     "metadata": {},
     "output_type": "execute_result"
    }
   ],
   "source": [
    "xx.first()+xx.first()\n"
   ]
  }
 ],
 "metadata": {
  "interpreter": {
   "hash": "e700657700ca3726e7d919db0cb1bdb00b1449743532d1443fbe37ca2c1ec67d"
  },
  "kernelspec": {
   "display_name": "Python 3.7.3 64-bit",
   "language": "python",
   "name": "python3"
  },
  "language_info": {
   "codemirror_mode": {
    "name": "ipython",
    "version": 3
   },
   "file_extension": ".py",
   "mimetype": "text/x-python",
   "name": "python",
   "nbconvert_exporter": "python",
   "pygments_lexer": "ipython3",
   "version": "3.7.3"
  },
  "orig_nbformat": 4
 },
 "nbformat": 4,
 "nbformat_minor": 2
}
